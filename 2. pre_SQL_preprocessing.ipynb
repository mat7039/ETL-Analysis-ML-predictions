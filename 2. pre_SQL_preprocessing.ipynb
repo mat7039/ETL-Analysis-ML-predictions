{
 "cells": [
  {
   "cell_type": "markdown",
   "id": "a1a5ca2c",
   "metadata": {},
   "source": [
    "## Ponieważ do zaimplementowania danych do tabeli w SQL potrzebuje stworzyć przed faktem tabelę i zdefiniować kolumny oraz ich typ, aby umożliwić sobie zadanie implementacji danych do takiej tabeli, przeprowadzam wstępne czyszczenie danych - poprawiam typ danych oraz usuwam zbędne kolumny. Dodatkowo zmieniam nazwy kolumn z automatycznie pozyskanych na docelowe ułatwiające dalszą pracę."
   ]
  },
  {
   "cell_type": "code",
   "execution_count": 1,
   "id": "e541ad9d",
   "metadata": {},
   "outputs": [],
   "source": [
    "import numpy as np\n",
    "import pandas as pd"
   ]
  },
  {
   "cell_type": "code",
   "execution_count": 2,
   "id": "76152c58",
   "metadata": {},
   "outputs": [],
   "source": [
    "df = pd.read_csv('C:/Users/Maciej/Documents/projekt_studia/real_estate/final_result.csv')"
   ]
  },
  {
   "cell_type": "markdown",
   "id": "5ff02bfa",
   "metadata": {},
   "source": [
    "### Wstępne zapoznanie się z podstawowymi danymi"
   ]
  },
  {
   "cell_type": "code",
   "execution_count": 3,
   "id": "6901b55f",
   "metadata": {},
   "outputs": [
    {
     "data": {
      "text/html": [
       "<div>\n",
       "<style scoped>\n",
       "    .dataframe tbody tr th:only-of-type {\n",
       "        vertical-align: middle;\n",
       "    }\n",
       "\n",
       "    .dataframe tbody tr th {\n",
       "        vertical-align: top;\n",
       "    }\n",
       "\n",
       "    .dataframe thead th {\n",
       "        text-align: right;\n",
       "    }\n",
       "</style>\n",
       "<table border=\"1\" class=\"dataframe\">\n",
       "  <thead>\n",
       "    <tr style=\"text-align: right;\">\n",
       "      <th></th>\n",
       "      <th>Unnamed: 0</th>\n",
       "      <th>id</th>\n",
       "      <th>Cena</th>\n",
       "      <th>Cena/metr</th>\n",
       "      <th>Pokoje</th>\n",
       "      <th>Miasto</th>\n",
       "      <th>Dzielnica</th>\n",
       "      <th>Ulica</th>\n",
       "      <th>Inwestycja</th>\n",
       "      <th>Stan nieruchomości</th>\n",
       "      <th>...</th>\n",
       "      <th>Liczba pięter</th>\n",
       "      <th>Liczba sypialni</th>\n",
       "      <th>Balkon</th>\n",
       "      <th>Rodzaj umowy</th>\n",
       "      <th>Ogrzewanie</th>\n",
       "      <th>Stolarka okienna</th>\n",
       "      <th>Dostępne od</th>\n",
       "      <th>Wysokość wnętrza</th>\n",
       "      <th>Pow. balkonu</th>\n",
       "      <th>Stan budynku</th>\n",
       "    </tr>\n",
       "  </thead>\n",
       "  <tbody>\n",
       "    <tr>\n",
       "      <th>0</th>\n",
       "      <td>0</td>\n",
       "      <td>0.0</td>\n",
       "      <td>360 185 zł</td>\n",
       "      <td>4 002 zł/m²</td>\n",
       "      <td>4</td>\n",
       "      <td>Gdańsk</td>\n",
       "      <td>Łostowice</td>\n",
       "      <td>Kryształowa</td>\n",
       "      <td>Domm 90M2 Z Ogrodem</td>\n",
       "      <td>Do wykończenia</td>\n",
       "      <td>...</td>\n",
       "      <td>2</td>\n",
       "      <td>NaN</td>\n",
       "      <td>NaN</td>\n",
       "      <td>NaN</td>\n",
       "      <td>NaN</td>\n",
       "      <td>NaN</td>\n",
       "      <td>NaN</td>\n",
       "      <td>NaN</td>\n",
       "      <td>NaN</td>\n",
       "      <td>NaN</td>\n",
       "    </tr>\n",
       "    <tr>\n",
       "      <th>1</th>\n",
       "      <td>1</td>\n",
       "      <td>1.0</td>\n",
       "      <td>2 850 000 zł</td>\n",
       "      <td>22 266 zł/m²</td>\n",
       "      <td>4</td>\n",
       "      <td>Sopot</td>\n",
       "      <td>Dolny</td>\n",
       "      <td>Grunwaldzka</td>\n",
       "      <td>NaN</td>\n",
       "      <td>NaN</td>\n",
       "      <td>...</td>\n",
       "      <td>3</td>\n",
       "      <td>5.0</td>\n",
       "      <td>Nie</td>\n",
       "      <td>Na wyłączność</td>\n",
       "      <td>Co Własne</td>\n",
       "      <td>NaN</td>\n",
       "      <td>NaN</td>\n",
       "      <td>NaN</td>\n",
       "      <td>NaN</td>\n",
       "      <td>NaN</td>\n",
       "    </tr>\n",
       "    <tr>\n",
       "      <th>2</th>\n",
       "      <td>2</td>\n",
       "      <td>2.0</td>\n",
       "      <td>669 000 zł</td>\n",
       "      <td>16 405 zł/m²</td>\n",
       "      <td>2</td>\n",
       "      <td>Gdynia</td>\n",
       "      <td>Redłowo</td>\n",
       "      <td>Bohaterów Starówki Warszawskiej</td>\n",
       "      <td>NaN</td>\n",
       "      <td>NaN</td>\n",
       "      <td>...</td>\n",
       "      <td>9</td>\n",
       "      <td>NaN</td>\n",
       "      <td>Tak</td>\n",
       "      <td>NaN</td>\n",
       "      <td>Co Miejskie</td>\n",
       "      <td>NaN</td>\n",
       "      <td>NaN</td>\n",
       "      <td>NaN</td>\n",
       "      <td>NaN</td>\n",
       "      <td>NaN</td>\n",
       "    </tr>\n",
       "    <tr>\n",
       "      <th>3</th>\n",
       "      <td>3</td>\n",
       "      <td>3.0</td>\n",
       "      <td>414 000 zł</td>\n",
       "      <td>11 948 zł/m²</td>\n",
       "      <td>2</td>\n",
       "      <td>Gdańsk</td>\n",
       "      <td>Jasień</td>\n",
       "      <td>NaN</td>\n",
       "      <td>NaN</td>\n",
       "      <td>Do wykończenia</td>\n",
       "      <td>...</td>\n",
       "      <td>4</td>\n",
       "      <td>NaN</td>\n",
       "      <td>Tak</td>\n",
       "      <td>NaN</td>\n",
       "      <td>Miejskie</td>\n",
       "      <td>PCV</td>\n",
       "      <td>NaN</td>\n",
       "      <td>NaN</td>\n",
       "      <td>NaN</td>\n",
       "      <td>NaN</td>\n",
       "    </tr>\n",
       "    <tr>\n",
       "      <th>4</th>\n",
       "      <td>4</td>\n",
       "      <td>4.0</td>\n",
       "      <td>537 365 zł</td>\n",
       "      <td>8 550 zł/m²</td>\n",
       "      <td>4</td>\n",
       "      <td>Gdańsk</td>\n",
       "      <td>Ujeścisko - Łostowice</td>\n",
       "      <td>NaN</td>\n",
       "      <td>NaN</td>\n",
       "      <td>Do wykończenia</td>\n",
       "      <td>...</td>\n",
       "      <td>3</td>\n",
       "      <td>NaN</td>\n",
       "      <td>Tak</td>\n",
       "      <td>NaN</td>\n",
       "      <td>Miejskie</td>\n",
       "      <td>PCV</td>\n",
       "      <td>NaN</td>\n",
       "      <td>NaN</td>\n",
       "      <td>NaN</td>\n",
       "      <td>NaN</td>\n",
       "    </tr>\n",
       "  </tbody>\n",
       "</table>\n",
       "<p>5 rows × 38 columns</p>\n",
       "</div>"
      ],
      "text/plain": [
       "   Unnamed: 0   id          Cena     Cena/metr  Pokoje  Miasto  \\\n",
       "0           0  0.0    360 185 zł   4 002 zł/m²       4  Gdańsk   \n",
       "1           1  1.0  2 850 000 zł  22 266 zł/m²       4   Sopot   \n",
       "2           2  2.0    669 000 zł  16 405 zł/m²       2  Gdynia   \n",
       "3           3  3.0    414 000 zł  11 948 zł/m²       2  Gdańsk   \n",
       "4           4  4.0    537 365 zł   8 550 zł/m²       4  Gdańsk   \n",
       "\n",
       "               Dzielnica                            Ulica  \\\n",
       "0              Łostowice                      Kryształowa   \n",
       "1                  Dolny                      Grunwaldzka   \n",
       "2                Redłowo  Bohaterów Starówki Warszawskiej   \n",
       "3                 Jasień                              NaN   \n",
       "4  Ujeścisko - Łostowice                              NaN   \n",
       "\n",
       "            Inwestycja Stan nieruchomości  ... Liczba pięter  Liczba sypialni  \\\n",
       "0  Domm 90M2 Z Ogrodem     Do wykończenia  ...             2              NaN   \n",
       "1                  NaN                NaN  ...             3              5.0   \n",
       "2                  NaN                NaN  ...             9              NaN   \n",
       "3                  NaN     Do wykończenia  ...             4              NaN   \n",
       "4                  NaN     Do wykończenia  ...             3              NaN   \n",
       "\n",
       "  Balkon   Rodzaj umowy   Ogrzewanie Stolarka okienna Dostępne od  \\\n",
       "0    NaN            NaN          NaN              NaN         NaN   \n",
       "1    Nie  Na wyłączność    Co Własne              NaN         NaN   \n",
       "2    Tak            NaN  Co Miejskie              NaN         NaN   \n",
       "3    Tak            NaN     Miejskie              PCV         NaN   \n",
       "4    Tak            NaN     Miejskie              PCV         NaN   \n",
       "\n",
       "  Wysokość wnętrza Pow. balkonu Stan budynku  \n",
       "0              NaN          NaN          NaN  \n",
       "1              NaN          NaN          NaN  \n",
       "2              NaN          NaN          NaN  \n",
       "3              NaN          NaN          NaN  \n",
       "4              NaN          NaN          NaN  \n",
       "\n",
       "[5 rows x 38 columns]"
      ]
     },
     "execution_count": 3,
     "metadata": {},
     "output_type": "execute_result"
    }
   ],
   "source": [
    "df.head()"
   ]
  },
  {
   "cell_type": "code",
   "execution_count": 4,
   "id": "546f82ee",
   "metadata": {},
   "outputs": [
    {
     "data": {
      "text/plain": [
       "Index(['Unnamed: 0', 'id', 'Cena', 'Cena/metr', 'Pokoje', 'Miasto',\n",
       "       'Dzielnica', 'Ulica', 'Inwestycja', 'Stan nieruchomości',\n",
       "       'Pow. całkowita', 'Liczba poziomów mieszkania', 'Typ kuchni',\n",
       "       'Liczba łazienek', 'łazienka razem z WC', 'Taras', 'Pow. ogródka',\n",
       "       'Rynek', 'Forma własności', 'Typ budynku', 'Materiał budowlany',\n",
       "       'Rok budowy', 'Data dodania', 'Aktualizacja', 'Numer ogłoszenia',\n",
       "       'Liczba odsłon', 'Liczba Punktów Podbić', 'Piętro', 'Liczba pięter',\n",
       "       'Liczba sypialni', 'Balkon', 'Rodzaj umowy', 'Ogrzewanie',\n",
       "       'Stolarka okienna', 'Dostępne od', 'Wysokość wnętrza', 'Pow. balkonu',\n",
       "       'Stan budynku'],\n",
       "      dtype='object')"
      ]
     },
     "execution_count": 4,
     "metadata": {},
     "output_type": "execute_result"
    }
   ],
   "source": [
    "df.columns"
   ]
  },
  {
   "cell_type": "code",
   "execution_count": 5,
   "id": "f1cdac1b",
   "metadata": {},
   "outputs": [
    {
     "name": "stdout",
     "output_type": "stream",
     "text": [
      "<class 'pandas.core.frame.DataFrame'>\n",
      "RangeIndex: 2238 entries, 0 to 2237\n",
      "Data columns (total 38 columns):\n",
      " #   Column                      Non-Null Count  Dtype  \n",
      "---  ------                      --------------  -----  \n",
      " 0   Unnamed: 0                  2238 non-null   int64  \n",
      " 1   id                          2238 non-null   float64\n",
      " 2   Cena                        2238 non-null   object \n",
      " 3   Cena/metr                   2227 non-null   object \n",
      " 4   Pokoje                      2238 non-null   int64  \n",
      " 5   Miasto                      2238 non-null   object \n",
      " 6   Dzielnica                   2238 non-null   object \n",
      " 7   Ulica                       1860 non-null   object \n",
      " 8   Inwestycja                  931 non-null    object \n",
      " 9   Stan nieruchomości          559 non-null    object \n",
      " 10  Pow. całkowita              2238 non-null   object \n",
      " 11  Liczba poziomów mieszkania  896 non-null    float64\n",
      " 12  Typ kuchni                  189 non-null    object \n",
      " 13  Liczba łazienek             361 non-null    float64\n",
      " 14  łazienka razem z WC         181 non-null    object \n",
      " 15  Taras                       355 non-null    object \n",
      " 16  Pow. ogródka                176 non-null    object \n",
      " 17  Rynek                       2238 non-null   object \n",
      " 18  Forma własności             555 non-null    object \n",
      " 19  Typ budynku                 1458 non-null   object \n",
      " 20  Materiał budowlany          1282 non-null   object \n",
      " 21  Rok budowy                  2238 non-null   int64  \n",
      " 22  Data dodania                2238 non-null   object \n",
      " 23  Aktualizacja                2238 non-null   object \n",
      " 24  Numer ogłoszenia            2238 non-null   object \n",
      " 25  Liczba odsłon               2238 non-null   object \n",
      " 26  Liczba Punktów Podbić       2238 non-null   int64  \n",
      " 27  Piętro                      2238 non-null   int64  \n",
      " 28  Liczba pięter               2038 non-null   object \n",
      " 29  Liczba sypialni             574 non-null    float64\n",
      " 30  Balkon                      936 non-null    object \n",
      " 31  Rodzaj umowy                553 non-null    object \n",
      " 32  Ogrzewanie                  1280 non-null   object \n",
      " 33  Stolarka okienna            376 non-null    object \n",
      " 34  Dostępne od                 196 non-null    object \n",
      " 35  Wysokość wnętrza            5 non-null      object \n",
      " 36  Pow. balkonu                5 non-null      object \n",
      " 37  Stan budynku                3 non-null      object \n",
      "dtypes: float64(4), int64(5), object(29)\n",
      "memory usage: 664.5+ KB\n"
     ]
    }
   ],
   "source": [
    "df.info()"
   ]
  },
  {
   "cell_type": "markdown",
   "id": "b7650f11",
   "metadata": {},
   "source": [
    "#### Sprawdzenie % wartości np.nan dla każdej z kolumn"
   ]
  },
  {
   "cell_type": "code",
   "execution_count": 6,
   "id": "94f21982",
   "metadata": {},
   "outputs": [
    {
     "data": {
      "text/plain": [
       "Unnamed: 0                     0.000000\n",
       "id                             0.000000\n",
       "Cena                           0.000000\n",
       "Cena/metr                      0.491510\n",
       "Pokoje                         0.000000\n",
       "Miasto                         0.000000\n",
       "Dzielnica                      0.000000\n",
       "Ulica                         16.890080\n",
       "Inwestycja                    58.400357\n",
       "Stan nieruchomości            75.022341\n",
       "Pow. całkowita                 0.000000\n",
       "Liczba poziomów mieszkania    59.964254\n",
       "Typ kuchni                    91.554960\n",
       "Liczba łazienek               83.869526\n",
       "łazienka razem z WC           91.912422\n",
       "Taras                         84.137623\n",
       "Pow. ogródka                  92.135836\n",
       "Rynek                          0.000000\n",
       "Forma własności               75.201072\n",
       "Typ budynku                   34.852547\n",
       "Materiał budowlany            42.716711\n",
       "Rok budowy                     0.000000\n",
       "Data dodania                   0.000000\n",
       "Aktualizacja                   0.000000\n",
       "Numer ogłoszenia               0.000000\n",
       "Liczba odsłon                  0.000000\n",
       "Liczba Punktów Podbić          0.000000\n",
       "Piętro                         0.000000\n",
       "Liczba pięter                  8.936550\n",
       "Liczba sypialni               74.352100\n",
       "Balkon                        58.176944\n",
       "Rodzaj umowy                  75.290438\n",
       "Ogrzewanie                    42.806077\n",
       "Stolarka okienna              83.199285\n",
       "Dostępne od                   91.242181\n",
       "Wysokość wnętrza              99.776586\n",
       "Pow. balkonu                  99.776586\n",
       "Stan budynku                  99.865952\n",
       "dtype: float64"
      ]
     },
     "execution_count": 6,
     "metadata": {},
     "output_type": "execute_result"
    }
   ],
   "source": [
    "df.isna().sum() / len(df) * 100\n"
   ]
  },
  {
   "cell_type": "markdown",
   "id": "3fc8dfa6",
   "metadata": {},
   "source": [
    "### Dokładniejsze zapoznanie się z wartościami kolumn oraz usunięcie kolumn uznanych za zbędne do dalszej analizy"
   ]
  },
  {
   "cell_type": "code",
   "execution_count": 7,
   "id": "382a11de",
   "metadata": {},
   "outputs": [],
   "source": [
    "to_drop = []"
   ]
  },
  {
   "cell_type": "code",
   "execution_count": 8,
   "id": "a86622a5",
   "metadata": {},
   "outputs": [],
   "source": [
    "for i in df.columns:\n",
    "    if df[i].isna().sum() / len(df) * 100 > 95:\n",
    "        to_drop.append(i)"
   ]
  },
  {
   "cell_type": "markdown",
   "id": "ca374a3e",
   "metadata": {},
   "source": [
    "Automatycznie usuwam wszystkie kolumny mające powyżej 95% brakujących informacji w celu redukcji potencjalnych outlierów"
   ]
  },
  {
   "cell_type": "code",
   "execution_count": 9,
   "id": "25699a83",
   "metadata": {},
   "outputs": [],
   "source": [
    "to_drop.append('Unnamed: 0')"
   ]
  },
  {
   "cell_type": "markdown",
   "id": "c4012ecc",
   "metadata": {},
   "source": [
    "kolumna Unnamed:0 została wygenerowana automatycznie i jest zbędna"
   ]
  },
  {
   "cell_type": "code",
   "execution_count": 10,
   "id": "ee8fc0e0",
   "metadata": {},
   "outputs": [
    {
     "data": {
      "text/plain": [
       "array([nan, 'Na wyłączność'], dtype=object)"
      ]
     },
     "execution_count": 10,
     "metadata": {},
     "output_type": "execute_result"
    }
   ],
   "source": [
    "df['Rodzaj umowy'].unique()"
   ]
  },
  {
   "cell_type": "markdown",
   "id": "ae8f0549",
   "metadata": {},
   "source": [
    "#ponieważ wszystkie umowy są albo na wyłączność, albo brak informacji - zakładam, że wszystkie są na wyłączność i w późniejszym etapie usunę kolumnę"
   ]
  },
  {
   "cell_type": "markdown",
   "id": "fa33971c",
   "metadata": {},
   "source": [
    "#### Późniejsze kolumny będę analizować pod względem ceny (np. jeśli jakaś kolumna ma 80% brakujących wartości, ale 10% ofert, które posiadają dane udogodnienie ma znacząco wyższą średnią cenę, zostawię kolumnę, jeśli udogodnienie raczej nie wpłwa na cenę - usunę kolumnę)\n",
    "#### W tym celu aktualizuję typ kolumn cena i cena/metr na int"
   ]
  },
  {
   "cell_type": "code",
   "execution_count": 11,
   "id": "b7aa5700",
   "metadata": {},
   "outputs": [],
   "source": [
    "df[df['Cena'] == 'Zarezerwowano'] = np.nan\n",
    "df.dropna(subset='Cena', inplace=True)\n",
    "df['Cena'] = df['Cena'].str.replace('zł', '')\n",
    "df['Cena'] = df['Cena'].str.replace(' ', '').astype(int)"
   ]
  },
  {
   "cell_type": "code",
   "execution_count": 12,
   "id": "1d3e72fa",
   "metadata": {},
   "outputs": [],
   "source": [
    "df['Cena/metr'] = df['Cena/metr'].str.replace('zł/m²', '')\n",
    "df['Cena/metr'] = df['Cena/metr'].str.replace(' ', '').astype(int)"
   ]
  },
  {
   "cell_type": "code",
   "execution_count": 13,
   "id": "c2e0ad5d",
   "metadata": {},
   "outputs": [
    {
     "data": {
      "text/plain": [
       "array(['Domm 90M2 Z Ogrodem', nan, 'Koncept', 'KAMIENNA 28', 'ZBOŻOWA'],\n",
       "      dtype=object)"
      ]
     },
     "execution_count": 13,
     "metadata": {},
     "output_type": "execute_result"
    }
   ],
   "source": [
    "to_drop.append('Inwestycja')\n",
    "df['Inwestycja'].unique()"
   ]
  },
  {
   "cell_type": "code",
   "execution_count": 14,
   "id": "a5661d9e",
   "metadata": {},
   "outputs": [
    {
     "name": "stdout",
     "output_type": "stream",
     "text": [
      "['Własność' nan 'Spółdzielcze własnościowe']\n",
      "średnia cena mieszkania dla zbioru: 452719.7363636364\n",
      "średnia cena (forma własnpści = \"spóldzielcze...\" 549000.0\n"
     ]
    }
   ],
   "source": [
    "print(df['Forma własności'].unique())\n",
    "print('średnia cena mieszkania dla zbioru:',df[df['Forma własności'] == 'Własność']['Cena'].mean())\n",
    "print('średnia cena (forma własnpści = \"spóldzielcze...\"', df[df['Forma własności'] == 'Spółdzielcze własnościowe']['Cena'].mean())\n",
    "to_drop.append('Forma własności')"
   ]
  },
  {
   "cell_type": "code",
   "execution_count": 15,
   "id": "8fd0f922",
   "metadata": {},
   "outputs": [
    {
     "data": {
      "text/plain": [
       "array([ 2.,  1., nan])"
      ]
     },
     "execution_count": 15,
     "metadata": {},
     "output_type": "execute_result"
    }
   ],
   "source": [
    "df['Liczba poziomów mieszkania'].unique()"
   ]
  },
  {
   "cell_type": "code",
   "execution_count": 16,
   "id": "60ca5dde",
   "metadata": {},
   "outputs": [
    {
     "name": "stdout",
     "output_type": "stream",
     "text": [
      "['Aneks' nan 'Widna' 'Brak']\n",
      "średnia cena dla: Aneks 360185.0\n",
      "średnia cena dla: nan nan\n",
      "średnia cena dla: Widna 524490.0\n",
      "średnia cena dla: Brak 2487730.0\n",
      "3\n"
     ]
    }
   ],
   "source": [
    "print(df['Typ kuchni'].unique())\n",
    "for i in df['Typ kuchni'].unique():\n",
    "    print('średnia cena dla:',i, df[df['Typ kuchni'] == i]['Cena'].mean())\n",
    "print(len(df[df['Typ kuchni'] == 'Brak']))\n",
    "to_drop.append('Typ kuchni')"
   ]
  },
  {
   "cell_type": "code",
   "execution_count": 17,
   "id": "00360270",
   "metadata": {},
   "outputs": [
    {
     "name": "stdout",
     "output_type": "stream",
     "text": [
      "[ 2. nan  1.]\n",
      "449025.9631728045\n",
      "353\n"
     ]
    }
   ],
   "source": [
    "print(df['Liczba łazienek'].unique())\n",
    "\n",
    "print(df[df['Liczba łazienek'] > 1]['Cena'].mean())\n",
    "print(len(df[df['Liczba łazienek'] > 1]))"
   ]
  },
  {
   "cell_type": "code",
   "execution_count": 18,
   "id": "529d96f5",
   "metadata": {},
   "outputs": [
    {
     "name": "stdout",
     "output_type": "stream",
     "text": [
      "['Tak' nan]\n"
     ]
    }
   ],
   "source": [
    "print(df['łazienka razem z WC'].unique())\n",
    "to_drop.append('łazienka razem z WC')"
   ]
  },
  {
   "cell_type": "code",
   "execution_count": 19,
   "id": "1f8ce039",
   "metadata": {},
   "outputs": [
    {
     "name": "stdout",
     "output_type": "stream",
     "text": [
      "['Tak' 'Nie' nan]\n"
     ]
    }
   ],
   "source": [
    "print(df['Taras'].unique()) "
   ]
  },
  {
   "cell_type": "code",
   "execution_count": 20,
   "id": "1bf3174d",
   "metadata": {},
   "outputs": [
    {
     "data": {
      "text/plain": [
       "array(['Do wykończenia', nan, 'DO WYKOŃCZENIA', 'Do zamieszkania'],\n",
       "      dtype=object)"
      ]
     },
     "execution_count": 20,
     "metadata": {},
     "output_type": "execute_result"
    }
   ],
   "source": [
    "df['Stan nieruchomości'].unique()"
   ]
  },
  {
   "cell_type": "code",
   "execution_count": 21,
   "id": "7d4311e4",
   "metadata": {},
   "outputs": [
    {
     "name": "stdout",
     "output_type": "stream",
     "text": [
      "['Dom wielorodzinny' 'Kamienica' 'Blok Mieszkalny' 'Blok'\n",
      " 'Apartamentowiec' nan 'APARTAMENTOWIEC' 'Inny' 'Wieżowiec']\n"
     ]
    }
   ],
   "source": [
    "print(df['Typ budynku'].unique())"
   ]
  },
  {
   "cell_type": "code",
   "execution_count": 22,
   "id": "917c22bd",
   "metadata": {},
   "outputs": [
    {
     "name": "stdout",
     "output_type": "stream",
     "text": [
      "['Pustak' 'Cegła' 'Wielka płyta' nan 'PUSTAK' 'Konstrukcja mieszana'\n",
      " 'Zróżnicowany' 'Konstrukcja żelbetowa' 'Silikat']\n"
     ]
    }
   ],
   "source": [
    "print(df['Materiał budowlany'].unique())"
   ]
  },
  {
   "cell_type": "code",
   "execution_count": 23,
   "id": "d46caa51",
   "metadata": {},
   "outputs": [
    {
     "name": "stdout",
     "output_type": "stream",
     "text": [
      "['17.04.2024' '10.06.2024' '06.06.2024' '12.06.2024' '08.06.2024'\n",
      " '05.06.2024' '11.06.2024' '12.04.2024' '27.03.2024' '03.06.2024'\n",
      " '31.05.2024' '15.04.2024' '22.05.2024' '23.05.2024' '17.05.2024']\n"
     ]
    }
   ],
   "source": [
    "print(df['Aktualizacja'].unique())\n",
    "to_drop.append('Aktualizacja')"
   ]
  },
  {
   "cell_type": "code",
   "execution_count": 24,
   "id": "9bb328a8",
   "metadata": {},
   "outputs": [
    {
     "name": "stdout",
     "output_type": "stream",
     "text": [
      "['morizon-Mieszkanie' 'morizon-WH690813' 'morizon-WH138189' 'morizon-1279'\n",
      " 'morizon-1262' 'morizon-MA586882207' 'morizon-F-F.1.4.5'\n",
      " 'morizon-F-F.1.4.6' 'morizon-MG913245' 'morizon-4-4.22' 'morizon-4-4.4'\n",
      " 'morizon-TC107841' 'morizon-67-67.28' 'morizon-380081'\n",
      " 'morizon-418/8114/OMS' 'morizon-528591' 'morizon-AS789598'\n",
      " 'morizon-67-67.41' 'morizon-67-67.70' 'morizon-EC123456623615'\n",
      " 'morizon-67-67.71' 'morizon-28-28.1' 'morizon-1041' 'morizon-1260'\n",
      " 'morizon-GH819305' 'morizon-181597' 'morizon-28-28.11' 'morizon-67-67.18'\n",
      " 'morizon-2956' 'morizon-221793593' 'morizon-1268' 'morizon-183767'\n",
      " 'morizon-IT01303' 'morizon-28-28.7' 'morizon-1269' 'morizon-67-67.13']\n"
     ]
    }
   ],
   "source": [
    "print(df['Numer ogłoszenia'].unique())\n",
    "to_drop.append('Numer ogłoszenia')"
   ]
  },
  {
   "cell_type": "code",
   "execution_count": 25,
   "id": "46688250",
   "metadata": {},
   "outputs": [
    {
     "name": "stdout",
     "output_type": "stream",
     "text": [
      "[766. 383. 309. 233. 230. 217. 216. 203. 202.  10.   1.   0.  25.  36.\n",
      "  61.  76.  31. 151.  29. 126.  20.]\n"
     ]
    }
   ],
   "source": [
    "print(df['Liczba Punktów Podbić'].unique())"
   ]
  },
  {
   "cell_type": "code",
   "execution_count": 26,
   "id": "95b37b14",
   "metadata": {},
   "outputs": [
    {
     "name": "stdout",
     "output_type": "stream",
     "text": [
      "['2' '3' '9' '4' '8' nan '6' '5' '/' '1']\n"
     ]
    }
   ],
   "source": [
    "print(df['Liczba pięter'].unique())"
   ]
  },
  {
   "cell_type": "code",
   "execution_count": 27,
   "id": "61312c63",
   "metadata": {},
   "outputs": [
    {
     "name": "stdout",
     "output_type": "stream",
     "text": [
      "[nan  5.  1.  2.  3.]\n"
     ]
    }
   ],
   "source": [
    "print(df['Liczba sypialni'].unique())"
   ]
  },
  {
   "cell_type": "code",
   "execution_count": 28,
   "id": "726499f0",
   "metadata": {},
   "outputs": [
    {
     "name": "stdout",
     "output_type": "stream",
     "text": [
      "[nan 'Nie' 'Tak']\n"
     ]
    }
   ],
   "source": [
    "print(df['Balkon'].unique())"
   ]
  },
  {
   "cell_type": "code",
   "execution_count": 29,
   "id": "6f2857a1",
   "metadata": {},
   "outputs": [
    {
     "name": "stdout",
     "output_type": "stream",
     "text": [
      "[nan 'Na wyłączność']\n"
     ]
    }
   ],
   "source": [
    "print(df['Rodzaj umowy'].unique())\n",
    "to_drop.append('Rodzaj umowy')"
   ]
  },
  {
   "cell_type": "markdown",
   "id": "76c9a596",
   "metadata": {},
   "source": [
    "#### Jeśli w kolumnie występuje tylko jedna wartość, a reszta to np.nan mogę zakładać, że w reszcie ogłoszeń powinna się znależć taka sama wartość, po prostu nie została dodana do ogłoszenia innymi słowy jeśli jest tylko jedna unikalna wartość (nie licząc np.nan - kolumna nie może mieć wpływu na cenę i ją usuwam)"
   ]
  },
  {
   "cell_type": "code",
   "execution_count": 30,
   "id": "26f5068d",
   "metadata": {},
   "outputs": [
    {
     "data": {
      "text/plain": [
       "array([nan, 'Co Własne', 'Co Miejskie', 'Miejskie',\n",
       "       'C.O. Z SIECI MIEJSKIEJ', 'Gazowe', 'Kotłownia lokalna'],\n",
       "      dtype=object)"
      ]
     },
     "execution_count": 30,
     "metadata": {},
     "output_type": "execute_result"
    }
   ],
   "source": [
    "df['Ogrzewanie'].unique()"
   ]
  },
  {
   "cell_type": "code",
   "execution_count": 31,
   "id": "b213b7bb",
   "metadata": {},
   "outputs": [
    {
     "name": "stdout",
     "output_type": "stream",
     "text": [
      "[nan 'PCV']\n"
     ]
    }
   ],
   "source": [
    "print(df['Stolarka okienna'].unique())\n",
    "to_drop.append('Stolarka okienna')"
   ]
  },
  {
   "cell_type": "code",
   "execution_count": 32,
   "id": "ffecf0d8",
   "metadata": {},
   "outputs": [
    {
     "name": "stdout",
     "output_type": "stream",
     "text": [
      "[nan '04.04.2024' '30.12.2024' '31.12.2024' '01.04.2024' '30.04.2024']\n"
     ]
    }
   ],
   "source": [
    "print(df['Dostępne od'].unique())\n",
    "to_drop.append('Dostępne od')"
   ]
  },
  {
   "cell_type": "code",
   "execution_count": 33,
   "id": "c4a4f230",
   "metadata": {},
   "outputs": [],
   "source": [
    "to_drop.append('Pow. ogródka')"
   ]
  },
  {
   "cell_type": "code",
   "execution_count": 34,
   "id": "a81136ed",
   "metadata": {},
   "outputs": [],
   "source": [
    "to_drop.append('Liczba odsłon')\n",
    "to_drop.append('Ogrzewanie')"
   ]
  },
  {
   "cell_type": "code",
   "execution_count": 35,
   "id": "8312165d",
   "metadata": {},
   "outputs": [
    {
     "data": {
      "text/plain": [
       "['Wysokość wnętrza',\n",
       " 'Pow. balkonu',\n",
       " 'Stan budynku',\n",
       " 'Unnamed: 0',\n",
       " 'Inwestycja',\n",
       " 'Forma własności',\n",
       " 'Typ kuchni',\n",
       " 'łazienka razem z WC',\n",
       " 'Aktualizacja',\n",
       " 'Numer ogłoszenia',\n",
       " 'Rodzaj umowy',\n",
       " 'Stolarka okienna',\n",
       " 'Dostępne od',\n",
       " 'Pow. ogródka',\n",
       " 'Liczba odsłon',\n",
       " 'Ogrzewanie']"
      ]
     },
     "execution_count": 35,
     "metadata": {},
     "output_type": "execute_result"
    }
   ],
   "source": [
    "to_drop"
   ]
  },
  {
   "cell_type": "markdown",
   "id": "3884cfc2",
   "metadata": {},
   "source": [
    "#### Lista wszystkich kolumn do wyrzucenia ze zbioru danych"
   ]
  },
  {
   "cell_type": "code",
   "execution_count": 36,
   "id": "1ec9989a",
   "metadata": {},
   "outputs": [
    {
     "data": {
      "text/plain": [
       "Index(['id', 'Cena', 'Cena/metr', 'Pokoje', 'Miasto', 'Dzielnica', 'Ulica',\n",
       "       'Stan nieruchomości', 'Pow. całkowita', 'Liczba poziomów mieszkania',\n",
       "       'Liczba łazienek', 'Taras', 'Rynek', 'Typ budynku',\n",
       "       'Materiał budowlany', 'Rok budowy', 'Data dodania',\n",
       "       'Liczba Punktów Podbić', 'Piętro', 'Liczba pięter', 'Liczba sypialni',\n",
       "       'Balkon'],\n",
       "      dtype='object')"
      ]
     },
     "execution_count": 36,
     "metadata": {},
     "output_type": "execute_result"
    }
   ],
   "source": [
    "df.drop(columns=to_drop, inplace=True)\n",
    "df.columns"
   ]
  },
  {
   "cell_type": "markdown",
   "id": "a9bde0ea",
   "metadata": {},
   "source": [
    "#### Sprawdzenie kolumn, które zostały w zbiorze"
   ]
  },
  {
   "cell_type": "code",
   "execution_count": 37,
   "id": "409ce600",
   "metadata": {},
   "outputs": [
    {
     "data": {
      "text/plain": [
       "22"
      ]
     },
     "execution_count": 37,
     "metadata": {},
     "output_type": "execute_result"
    }
   ],
   "source": [
    "len(df.columns)"
   ]
  },
  {
   "cell_type": "code",
   "execution_count": 38,
   "id": "dba6ec06",
   "metadata": {},
   "outputs": [
    {
     "name": "stdout",
     "output_type": "stream",
     "text": [
      "<class 'pandas.core.frame.DataFrame'>\n",
      "Int64Index: 2227 entries, 0 to 2237\n",
      "Data columns (total 22 columns):\n",
      " #   Column                      Non-Null Count  Dtype  \n",
      "---  ------                      --------------  -----  \n",
      " 0   id                          2227 non-null   float64\n",
      " 1   Cena                        2227 non-null   int32  \n",
      " 2   Cena/metr                   2227 non-null   int32  \n",
      " 3   Pokoje                      2227 non-null   float64\n",
      " 4   Miasto                      2227 non-null   object \n",
      " 5   Dzielnica                   2227 non-null   object \n",
      " 6   Ulica                       1849 non-null   object \n",
      " 7   Stan nieruchomości          559 non-null    object \n",
      " 8   Pow. całkowita              2227 non-null   object \n",
      " 9   Liczba poziomów mieszkania  896 non-null    float64\n",
      " 10  Liczba łazienek             361 non-null    float64\n",
      " 11  Taras                       355 non-null    object \n",
      " 12  Rynek                       2227 non-null   object \n",
      " 13  Typ budynku                 1458 non-null   object \n",
      " 14  Materiał budowlany          1282 non-null   object \n",
      " 15  Rok budowy                  2227 non-null   float64\n",
      " 16  Data dodania                2227 non-null   object \n",
      " 17  Liczba Punktów Podbić       2227 non-null   float64\n",
      " 18  Piętro                      2227 non-null   float64\n",
      " 19  Liczba pięter               2032 non-null   object \n",
      " 20  Liczba sypialni             574 non-null    float64\n",
      " 21  Balkon                      936 non-null    object \n",
      "dtypes: float64(8), int32(2), object(12)\n",
      "memory usage: 382.8+ KB\n"
     ]
    }
   ],
   "source": [
    "df.info()"
   ]
  },
  {
   "cell_type": "markdown",
   "id": "1950f1a0",
   "metadata": {},
   "source": [
    "### W dalszej części zmieniam typ danych oraz uzupełniam wartości brakujące jeśli jest taka potrzeba, podzieliłem zbiór danych na 3 partycję, dzięki czemu w wygodny sposób mogę patrzeć na wartości pierwszych 5 wierszy każdej kolumny"
   ]
  },
  {
   "cell_type": "code",
   "execution_count": 39,
   "id": "0961e779",
   "metadata": {},
   "outputs": [
    {
     "data": {
      "text/html": [
       "<div>\n",
       "<style scoped>\n",
       "    .dataframe tbody tr th:only-of-type {\n",
       "        vertical-align: middle;\n",
       "    }\n",
       "\n",
       "    .dataframe tbody tr th {\n",
       "        vertical-align: top;\n",
       "    }\n",
       "\n",
       "    .dataframe thead th {\n",
       "        text-align: right;\n",
       "    }\n",
       "</style>\n",
       "<table border=\"1\" class=\"dataframe\">\n",
       "  <thead>\n",
       "    <tr style=\"text-align: right;\">\n",
       "      <th></th>\n",
       "      <th>id</th>\n",
       "      <th>Cena</th>\n",
       "      <th>Cena/metr</th>\n",
       "      <th>Pokoje</th>\n",
       "      <th>Miasto</th>\n",
       "      <th>Dzielnica</th>\n",
       "      <th>Ulica</th>\n",
       "      <th>Stan nieruchomości</th>\n",
       "      <th>Pow. całkowita</th>\n",
       "    </tr>\n",
       "  </thead>\n",
       "  <tbody>\n",
       "    <tr>\n",
       "      <th>0</th>\n",
       "      <td>0.0</td>\n",
       "      <td>360185</td>\n",
       "      <td>4002</td>\n",
       "      <td>4.0</td>\n",
       "      <td>Gdańsk</td>\n",
       "      <td>Łostowice</td>\n",
       "      <td>Kryształowa</td>\n",
       "      <td>Do wykończenia</td>\n",
       "      <td>90 m²</td>\n",
       "    </tr>\n",
       "    <tr>\n",
       "      <th>1</th>\n",
       "      <td>1.0</td>\n",
       "      <td>2850000</td>\n",
       "      <td>22266</td>\n",
       "      <td>4.0</td>\n",
       "      <td>Sopot</td>\n",
       "      <td>Dolny</td>\n",
       "      <td>Grunwaldzka</td>\n",
       "      <td>NaN</td>\n",
       "      <td>128 m²</td>\n",
       "    </tr>\n",
       "    <tr>\n",
       "      <th>2</th>\n",
       "      <td>2.0</td>\n",
       "      <td>669000</td>\n",
       "      <td>16405</td>\n",
       "      <td>2.0</td>\n",
       "      <td>Gdynia</td>\n",
       "      <td>Redłowo</td>\n",
       "      <td>Bohaterów Starówki Warszawskiej</td>\n",
       "      <td>NaN</td>\n",
       "      <td>40,78 m²</td>\n",
       "    </tr>\n",
       "    <tr>\n",
       "      <th>3</th>\n",
       "      <td>3.0</td>\n",
       "      <td>414000</td>\n",
       "      <td>11948</td>\n",
       "      <td>2.0</td>\n",
       "      <td>Gdańsk</td>\n",
       "      <td>Jasień</td>\n",
       "      <td>NaN</td>\n",
       "      <td>Do wykończenia</td>\n",
       "      <td>34,65 m²</td>\n",
       "    </tr>\n",
       "    <tr>\n",
       "      <th>4</th>\n",
       "      <td>4.0</td>\n",
       "      <td>537365</td>\n",
       "      <td>8550</td>\n",
       "      <td>4.0</td>\n",
       "      <td>Gdańsk</td>\n",
       "      <td>Ujeścisko - Łostowice</td>\n",
       "      <td>NaN</td>\n",
       "      <td>Do wykończenia</td>\n",
       "      <td>62,85 m²</td>\n",
       "    </tr>\n",
       "  </tbody>\n",
       "</table>\n",
       "</div>"
      ],
      "text/plain": [
       "    id     Cena  Cena/metr  Pokoje  Miasto              Dzielnica  \\\n",
       "0  0.0   360185       4002     4.0  Gdańsk              Łostowice   \n",
       "1  1.0  2850000      22266     4.0   Sopot                  Dolny   \n",
       "2  2.0   669000      16405     2.0  Gdynia                Redłowo   \n",
       "3  3.0   414000      11948     2.0  Gdańsk                 Jasień   \n",
       "4  4.0   537365       8550     4.0  Gdańsk  Ujeścisko - Łostowice   \n",
       "\n",
       "                             Ulica Stan nieruchomości Pow. całkowita  \n",
       "0                      Kryształowa     Do wykończenia          90 m²  \n",
       "1                      Grunwaldzka                NaN         128 m²  \n",
       "2  Bohaterów Starówki Warszawskiej                NaN       40,78 m²  \n",
       "3                              NaN     Do wykończenia       34,65 m²  \n",
       "4                              NaN     Do wykończenia       62,85 m²  "
      ]
     },
     "execution_count": 39,
     "metadata": {},
     "output_type": "execute_result"
    }
   ],
   "source": [
    "df.iloc[:5, :9]"
   ]
  },
  {
   "cell_type": "code",
   "execution_count": 40,
   "id": "2e6d2e56",
   "metadata": {},
   "outputs": [
    {
     "data": {
      "text/html": [
       "<div>\n",
       "<style scoped>\n",
       "    .dataframe tbody tr th:only-of-type {\n",
       "        vertical-align: middle;\n",
       "    }\n",
       "\n",
       "    .dataframe tbody tr th {\n",
       "        vertical-align: top;\n",
       "    }\n",
       "\n",
       "    .dataframe thead th {\n",
       "        text-align: right;\n",
       "    }\n",
       "</style>\n",
       "<table border=\"1\" class=\"dataframe\">\n",
       "  <thead>\n",
       "    <tr style=\"text-align: right;\">\n",
       "      <th></th>\n",
       "      <th>Liczba poziomów mieszkania</th>\n",
       "      <th>Liczba łazienek</th>\n",
       "      <th>Taras</th>\n",
       "      <th>Rynek</th>\n",
       "      <th>Typ budynku</th>\n",
       "      <th>Materiał budowlany</th>\n",
       "      <th>Rok budowy</th>\n",
       "      <th>Data dodania</th>\n",
       "      <th>Liczba Punktów Podbić</th>\n",
       "    </tr>\n",
       "  </thead>\n",
       "  <tbody>\n",
       "    <tr>\n",
       "      <th>0</th>\n",
       "      <td>2.0</td>\n",
       "      <td>2.0</td>\n",
       "      <td>Tak</td>\n",
       "      <td>Pierwotny</td>\n",
       "      <td>Dom wielorodzinny</td>\n",
       "      <td>Pustak</td>\n",
       "      <td>2025.0</td>\n",
       "      <td>21.03.2024</td>\n",
       "      <td>766.0</td>\n",
       "    </tr>\n",
       "    <tr>\n",
       "      <th>1</th>\n",
       "      <td>1.0</td>\n",
       "      <td>NaN</td>\n",
       "      <td>Nie</td>\n",
       "      <td>Wtórny</td>\n",
       "      <td>Kamienica</td>\n",
       "      <td>Cegła</td>\n",
       "      <td>1920.0</td>\n",
       "      <td>18.09.2023</td>\n",
       "      <td>383.0</td>\n",
       "    </tr>\n",
       "    <tr>\n",
       "      <th>2</th>\n",
       "      <td>1.0</td>\n",
       "      <td>NaN</td>\n",
       "      <td>NaN</td>\n",
       "      <td>Wtórny</td>\n",
       "      <td>Blok Mieszkalny</td>\n",
       "      <td>Wielka płyta</td>\n",
       "      <td>1970.0</td>\n",
       "      <td>27.02.2024</td>\n",
       "      <td>309.0</td>\n",
       "    </tr>\n",
       "    <tr>\n",
       "      <th>3</th>\n",
       "      <td>NaN</td>\n",
       "      <td>NaN</td>\n",
       "      <td>NaN</td>\n",
       "      <td>Pierwotny</td>\n",
       "      <td>Blok</td>\n",
       "      <td>Wielka płyta</td>\n",
       "      <td>2023.0</td>\n",
       "      <td>12.06.2024</td>\n",
       "      <td>233.0</td>\n",
       "    </tr>\n",
       "    <tr>\n",
       "      <th>4</th>\n",
       "      <td>NaN</td>\n",
       "      <td>2.0</td>\n",
       "      <td>NaN</td>\n",
       "      <td>Pierwotny</td>\n",
       "      <td>Blok</td>\n",
       "      <td>Cegła</td>\n",
       "      <td>2024.0</td>\n",
       "      <td>03.06.2024</td>\n",
       "      <td>230.0</td>\n",
       "    </tr>\n",
       "  </tbody>\n",
       "</table>\n",
       "</div>"
      ],
      "text/plain": [
       "   Liczba poziomów mieszkania  Liczba łazienek Taras      Rynek  \\\n",
       "0                         2.0              2.0   Tak  Pierwotny   \n",
       "1                         1.0              NaN   Nie     Wtórny   \n",
       "2                         1.0              NaN   NaN     Wtórny   \n",
       "3                         NaN              NaN   NaN  Pierwotny   \n",
       "4                         NaN              2.0   NaN  Pierwotny   \n",
       "\n",
       "         Typ budynku Materiał budowlany  Rok budowy Data dodania  \\\n",
       "0  Dom wielorodzinny             Pustak      2025.0   21.03.2024   \n",
       "1          Kamienica              Cegła      1920.0   18.09.2023   \n",
       "2    Blok Mieszkalny       Wielka płyta      1970.0   27.02.2024   \n",
       "3               Blok       Wielka płyta      2023.0   12.06.2024   \n",
       "4               Blok              Cegła      2024.0   03.06.2024   \n",
       "\n",
       "   Liczba Punktów Podbić  \n",
       "0                  766.0  \n",
       "1                  383.0  \n",
       "2                  309.0  \n",
       "3                  233.0  \n",
       "4                  230.0  "
      ]
     },
     "execution_count": 40,
     "metadata": {},
     "output_type": "execute_result"
    }
   ],
   "source": [
    "df.iloc[:5, 9:18]"
   ]
  },
  {
   "cell_type": "code",
   "execution_count": 41,
   "id": "ca2ceaec",
   "metadata": {},
   "outputs": [
    {
     "data": {
      "text/html": [
       "<div>\n",
       "<style scoped>\n",
       "    .dataframe tbody tr th:only-of-type {\n",
       "        vertical-align: middle;\n",
       "    }\n",
       "\n",
       "    .dataframe tbody tr th {\n",
       "        vertical-align: top;\n",
       "    }\n",
       "\n",
       "    .dataframe thead th {\n",
       "        text-align: right;\n",
       "    }\n",
       "</style>\n",
       "<table border=\"1\" class=\"dataframe\">\n",
       "  <thead>\n",
       "    <tr style=\"text-align: right;\">\n",
       "      <th></th>\n",
       "      <th>Piętro</th>\n",
       "      <th>Liczba pięter</th>\n",
       "      <th>Liczba sypialni</th>\n",
       "      <th>Balkon</th>\n",
       "    </tr>\n",
       "  </thead>\n",
       "  <tbody>\n",
       "    <tr>\n",
       "      <th>0</th>\n",
       "      <td>2.0</td>\n",
       "      <td>2</td>\n",
       "      <td>NaN</td>\n",
       "      <td>NaN</td>\n",
       "    </tr>\n",
       "    <tr>\n",
       "      <th>1</th>\n",
       "      <td>1.0</td>\n",
       "      <td>3</td>\n",
       "      <td>5.0</td>\n",
       "      <td>Nie</td>\n",
       "    </tr>\n",
       "    <tr>\n",
       "      <th>2</th>\n",
       "      <td>3.0</td>\n",
       "      <td>9</td>\n",
       "      <td>NaN</td>\n",
       "      <td>Tak</td>\n",
       "    </tr>\n",
       "    <tr>\n",
       "      <th>3</th>\n",
       "      <td>1.0</td>\n",
       "      <td>4</td>\n",
       "      <td>NaN</td>\n",
       "      <td>Tak</td>\n",
       "    </tr>\n",
       "    <tr>\n",
       "      <th>4</th>\n",
       "      <td>1.0</td>\n",
       "      <td>3</td>\n",
       "      <td>NaN</td>\n",
       "      <td>Tak</td>\n",
       "    </tr>\n",
       "  </tbody>\n",
       "</table>\n",
       "</div>"
      ],
      "text/plain": [
       "   Piętro Liczba pięter  Liczba sypialni Balkon\n",
       "0     2.0             2              NaN    NaN\n",
       "1     1.0             3              5.0    Nie\n",
       "2     3.0             9              NaN    Tak\n",
       "3     1.0             4              NaN    Tak\n",
       "4     1.0             3              NaN    Tak"
      ]
     },
     "execution_count": 41,
     "metadata": {},
     "output_type": "execute_result"
    }
   ],
   "source": [
    "df.iloc[:5, 18:]"
   ]
  },
  {
   "cell_type": "code",
   "execution_count": 42,
   "id": "f08b43dc",
   "metadata": {},
   "outputs": [],
   "source": [
    "most_frequent_building = df['Typ budynku'].value_counts().keys()[0]\n",
    "most_frequent_material = df['Materiał budowlany'].value_counts().keys()[0]\n",
    "most_frequent_floors = df['Liczba pięter'].value_counts().keys()[0]"
   ]
  },
  {
   "cell_type": "markdown",
   "id": "753a4e98",
   "metadata": {},
   "source": [
    "Przygotowanie zmiennych zawierające najczęściej występujące wartości dla kolumn, w których zdecydowałem się na uzupełnienie wartości brakujących taką metodą"
   ]
  },
  {
   "cell_type": "code",
   "execution_count": 43,
   "id": "b1605d0d",
   "metadata": {},
   "outputs": [
    {
     "name": "stderr",
     "output_type": "stream",
     "text": [
      "C:\\Users\\Maciej\\AppData\\Local\\Temp\\ipykernel_110660\\527180992.py:3: FutureWarning: The default value of regex will change from True to False in a future version. In addition, single character regular expressions will *not* be treated as literal strings when regex=True.\n",
      "  df['Data dodania'] = df['Data dodania'].str.replace('.', '-')\n"
     ]
    }
   ],
   "source": [
    "df['Pow. całkowita'] = df['Pow. całkowita'].str.replace(' m²', '')\n",
    "df['Pow. całkowita'] = df['Pow. całkowita'].str.replace(',', '.')\n",
    "df['Data dodania'] = df['Data dodania'].str.replace('.', '-')\n",
    "df['Liczba pięter'] = df['Liczba pięter'].str.replace('/', most_frequent_floors)"
   ]
  },
  {
   "cell_type": "markdown",
   "id": "3fc71e41",
   "metadata": {},
   "source": [
    "Poprawki w sposobie przechowywania wartości w kolumnach, aby nie kolidował z planowanym typem danych"
   ]
  },
  {
   "cell_type": "code",
   "execution_count": 44,
   "id": "2502a73e",
   "metadata": {},
   "outputs": [],
   "source": [
    "df.loc[df['Stan nieruchomości'] == 'DO WYKOŃCZENIA', 'Stan nieruchomości'] = 'Do wykończenia'"
   ]
  },
  {
   "cell_type": "code",
   "execution_count": 45,
   "id": "f571b3f0",
   "metadata": {},
   "outputs": [],
   "source": [
    "df['Liczba poziomów mieszkania'].fillna(1, inplace=True)\n",
    "df['Liczba łazienek'].fillna(1, inplace=True)\n",
    "df['Taras'].fillna('Nie', inplace=True)\n",
    "df['Typ budynku'].fillna(most_frequent_building, inplace=True)\n",
    "df['Materiał budowlany'].fillna(most_frequent_material, inplace=True)\n",
    "df['Liczba pięter'].fillna(most_frequent_floors, inplace=True)\n",
    "df['Liczba sypialni'].fillna(1, inplace=True)\n",
    "df['Balkon'].fillna('Nie', inplace=True)"
   ]
  },
  {
   "cell_type": "markdown",
   "id": "16fb8086",
   "metadata": {},
   "source": [
    "Uzupełnianie wartości brakujących wartościami najczęściej występującymi lub wartościami domyślnymi dla większości mieszkań (np. liczba sypialni - 1)"
   ]
  },
  {
   "cell_type": "code",
   "execution_count": 46,
   "id": "2f3c249d",
   "metadata": {},
   "outputs": [
    {
     "data": {
      "text/plain": [
       "id                            0.000000\n",
       "Cena                          0.000000\n",
       "Cena/metr                     0.000000\n",
       "Pokoje                        0.000000\n",
       "Miasto                        0.000000\n",
       "Dzielnica                     0.000000\n",
       "Ulica                         0.169735\n",
       "Stan nieruchomości            0.748990\n",
       "Pow. całkowita                0.000000\n",
       "Liczba poziomów mieszkania    0.000000\n",
       "Liczba łazienek               0.000000\n",
       "Taras                         0.000000\n",
       "Rynek                         0.000000\n",
       "Typ budynku                   0.000000\n",
       "Materiał budowlany            0.000000\n",
       "Rok budowy                    0.000000\n",
       "Data dodania                  0.000000\n",
       "Liczba Punktów Podbić         0.000000\n",
       "Piętro                        0.000000\n",
       "Liczba pięter                 0.000000\n",
       "Liczba sypialni               0.000000\n",
       "Balkon                        0.000000\n",
       "dtype: float64"
      ]
     },
     "execution_count": 46,
     "metadata": {},
     "output_type": "execute_result"
    }
   ],
   "source": [
    "df.isna().sum() / len(df)"
   ]
  },
  {
   "cell_type": "markdown",
   "id": "18ee7588",
   "metadata": {},
   "source": [
    "Po uzupełnieniu wartości brakujących jedyne kolumny zawierające wartości np.nan to odpowiednio: ulica oraz stan nieruchomości"
   ]
  },
  {
   "cell_type": "code",
   "execution_count": 47,
   "id": "8d5a9e0a",
   "metadata": {},
   "outputs": [],
   "source": [
    "df['id'] = df['id'].astype('int')\n",
    "df['Pokoje'] = df['Pokoje'].astype('int')\n",
    "df['Pow. całkowita'] = df['Pow. całkowita'].astype('float')\n",
    "df['Liczba poziomów mieszkania'] = df['Liczba poziomów mieszkania'].astype('int')\n",
    "df['Liczba łazienek'] = df['Liczba łazienek'].astype('int')\n",
    "df['Rok budowy'] = df['Rok budowy'].astype('int')\n",
    "df['Data dodania'] = pd.to_datetime(df['Data dodania'], format='%d-%m-%Y')\n",
    "df['Data dodania'] = df['Data dodania'].dt.strftime('%Y-%m-%d')\n",
    "df['Data dodania'] = pd.to_datetime(df['Data dodania'], format='%Y-%m-%d')\n",
    "df['Liczba Punktów Podbić'] = df['Liczba Punktów Podbić'].astype('int')\n",
    "df['Piętro'] = df['Piętro'].astype('int')\n",
    "df['Liczba pięter'] = df['Liczba pięter'].astype('int')\n",
    "df['Liczba sypialni'] = df['Liczba sypialni'].astype('int')"
   ]
  },
  {
   "cell_type": "markdown",
   "id": "f0dd7cfd",
   "metadata": {},
   "source": [
    "zmiana typu danych do dalszej analizy"
   ]
  },
  {
   "cell_type": "code",
   "execution_count": 48,
   "id": "97bcd8f7",
   "metadata": {},
   "outputs": [],
   "source": [
    "rename_dict = {'Cena' : 'price',\n",
    "              'Cena/metr' : 'price/m',\n",
    "              'Pokoje' : 'rooms',\n",
    "              'Miasto' : 'city',\n",
    "              'Dzielnica' : 'district',\n",
    "              'Ulica' : 'street',\n",
    "              'Stan nieruchomości' : 'status',\n",
    "              'Pow. całkowita' : 'meters',\n",
    "              'Liczba poziomów mieszkania' : 'apartment_floors',\n",
    "              'Liczba łazienek' : 'bathroom',\n",
    "              'Taras' : 'terrace',\n",
    "              'Rynek' : 'market',\n",
    "              'Typ budynku' : 'building',\n",
    "              'Materiał budowlany' : 'material',\n",
    "              'Rok budowy' : 'year',\n",
    "              'Data dodania' : 'adv_date',\n",
    "              'Liczba Punktów Podbić' : 'upvotes',\n",
    "              'Piętro' : 'floor',\n",
    "              'Liczba pięter' : 'building_floors',\n",
    "              'Liczba sypialni' : 'bedroom',\n",
    "              'Balkon' : 'balcony'}"
   ]
  },
  {
   "cell_type": "code",
   "execution_count": 49,
   "id": "cfebcec9",
   "metadata": {},
   "outputs": [],
   "source": [
    "df.rename(columns=rename_dict, inplace=True)"
   ]
  },
  {
   "cell_type": "markdown",
   "id": "5dbd9f5e",
   "metadata": {},
   "source": [
    "zmiana nazw zmiennych do ułatwienia dalszej pracy\n",
    "zmiana według podstawowych kryteriów - nazwa zmiennej zaczyna się z małej litery, nie zawiera polskich znaków, nie zawiera spacji"
   ]
  },
  {
   "cell_type": "code",
   "execution_count": 50,
   "id": "7302949e",
   "metadata": {},
   "outputs": [
    {
     "name": "stdout",
     "output_type": "stream",
     "text": [
      "<class 'pandas.core.frame.DataFrame'>\n",
      "Int64Index: 2227 entries, 0 to 2237\n",
      "Data columns (total 22 columns):\n",
      " #   Column            Non-Null Count  Dtype         \n",
      "---  ------            --------------  -----         \n",
      " 0   id                2227 non-null   int32         \n",
      " 1   price             2227 non-null   int32         \n",
      " 2   price/m           2227 non-null   int32         \n",
      " 3   rooms             2227 non-null   int32         \n",
      " 4   city              2227 non-null   object        \n",
      " 5   district          2227 non-null   object        \n",
      " 6   street            1849 non-null   object        \n",
      " 7   status            559 non-null    object        \n",
      " 8   meters            2227 non-null   float64       \n",
      " 9   apartment_floors  2227 non-null   int32         \n",
      " 10  bathroom          2227 non-null   int32         \n",
      " 11  terrace           2227 non-null   object        \n",
      " 12  market            2227 non-null   object        \n",
      " 13  building          2227 non-null   object        \n",
      " 14  material          2227 non-null   object        \n",
      " 15  year              2227 non-null   int32         \n",
      " 16  adv_date          2227 non-null   datetime64[ns]\n",
      " 17  upvotes           2227 non-null   int32         \n",
      " 18  floor             2227 non-null   int32         \n",
      " 19  building_floors   2227 non-null   int32         \n",
      " 20  bedroom           2227 non-null   int32         \n",
      " 21  balcony           2227 non-null   object        \n",
      "dtypes: datetime64[ns](1), float64(1), int32(11), object(9)\n",
      "memory usage: 304.5+ KB\n"
     ]
    }
   ],
   "source": [
    "df.info()"
   ]
  },
  {
   "cell_type": "markdown",
   "id": "d0c279b3",
   "metadata": {},
   "source": [
    "### Zapisanie rezultatów do pliku csv, który następnie zostanie wgrany do tabeli postgreSQL"
   ]
  },
  {
   "cell_type": "code",
   "execution_count": 51,
   "id": "50eb8fac",
   "metadata": {},
   "outputs": [],
   "source": [
    "df.to_csv('final_result_updated.csv')"
   ]
  }
 ],
 "metadata": {
  "kernelspec": {
   "display_name": "Python 3 (ipykernel)",
   "language": "python",
   "name": "python3"
  },
  "language_info": {
   "codemirror_mode": {
    "name": "ipython",
    "version": 3
   },
   "file_extension": ".py",
   "mimetype": "text/x-python",
   "name": "python",
   "nbconvert_exporter": "python",
   "pygments_lexer": "ipython3",
   "version": "3.10.9"
  }
 },
 "nbformat": 4,
 "nbformat_minor": 5
}
